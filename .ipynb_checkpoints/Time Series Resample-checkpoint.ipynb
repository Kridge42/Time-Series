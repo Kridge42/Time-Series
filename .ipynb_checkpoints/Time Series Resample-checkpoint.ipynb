{
 "cells": [
  {
   "cell_type": "markdown",
   "id": "1ffb044f",
   "metadata": {},
   "source": [
    "# Time Series Resampling\n",
    "##### Kevin Ridge"
   ]
  },
  {
   "cell_type": "code",
   "execution_count": 25,
   "id": "5bc9c123",
   "metadata": {},
   "outputs": [],
   "source": [
    "# Common imports\n",
    "import pandas as pd\n",
    "import matplotlib.pyplot as plt\n",
    "import seaborn as sns\n",
    "import numpy as np\n",
    "\n",
    "# Import tick customization tools\n",
    "import matplotlib.ticker as mticks\n",
    "import matplotlib.dates as mdates"
   ]
  },
  {
   "cell_type": "code",
   "execution_count": 2,
   "id": "fa20ce8f",
   "metadata": {},
   "outputs": [
    {
     "data": {
      "text/html": [
       "<div>\n",
       "<style scoped>\n",
       "    .dataframe tbody tr th:only-of-type {\n",
       "        vertical-align: middle;\n",
       "    }\n",
       "\n",
       "    .dataframe tbody tr th {\n",
       "        vertical-align: top;\n",
       "    }\n",
       "\n",
       "    .dataframe thead th {\n",
       "        text-align: right;\n",
       "    }\n",
       "</style>\n",
       "<table border=\"1\" class=\"dataframe\">\n",
       "  <thead>\n",
       "    <tr style=\"text-align: right;\">\n",
       "      <th></th>\n",
       "      <th>date</th>\n",
       "      <th>cloud_cover</th>\n",
       "      <th>sunshine</th>\n",
       "      <th>global_radiation</th>\n",
       "      <th>max_temp</th>\n",
       "      <th>mean_temp</th>\n",
       "      <th>min_temp</th>\n",
       "      <th>precipitation</th>\n",
       "      <th>pressure</th>\n",
       "      <th>snow_depth</th>\n",
       "    </tr>\n",
       "  </thead>\n",
       "  <tbody>\n",
       "    <tr>\n",
       "      <th>0</th>\n",
       "      <td>19790101</td>\n",
       "      <td>2.0</td>\n",
       "      <td>7.0</td>\n",
       "      <td>52.0</td>\n",
       "      <td>2.3</td>\n",
       "      <td>-4.1</td>\n",
       "      <td>-7.5</td>\n",
       "      <td>0.4</td>\n",
       "      <td>101900.0</td>\n",
       "      <td>9.0</td>\n",
       "    </tr>\n",
       "    <tr>\n",
       "      <th>1</th>\n",
       "      <td>19790102</td>\n",
       "      <td>6.0</td>\n",
       "      <td>1.7</td>\n",
       "      <td>27.0</td>\n",
       "      <td>1.6</td>\n",
       "      <td>-2.6</td>\n",
       "      <td>-7.5</td>\n",
       "      <td>0.0</td>\n",
       "      <td>102530.0</td>\n",
       "      <td>8.0</td>\n",
       "    </tr>\n",
       "    <tr>\n",
       "      <th>2</th>\n",
       "      <td>19790103</td>\n",
       "      <td>5.0</td>\n",
       "      <td>0.0</td>\n",
       "      <td>13.0</td>\n",
       "      <td>1.3</td>\n",
       "      <td>-2.8</td>\n",
       "      <td>-7.2</td>\n",
       "      <td>0.0</td>\n",
       "      <td>102050.0</td>\n",
       "      <td>4.0</td>\n",
       "    </tr>\n",
       "    <tr>\n",
       "      <th>3</th>\n",
       "      <td>19790104</td>\n",
       "      <td>8.0</td>\n",
       "      <td>0.0</td>\n",
       "      <td>13.0</td>\n",
       "      <td>-0.3</td>\n",
       "      <td>-2.6</td>\n",
       "      <td>-6.5</td>\n",
       "      <td>0.0</td>\n",
       "      <td>100840.0</td>\n",
       "      <td>2.0</td>\n",
       "    </tr>\n",
       "    <tr>\n",
       "      <th>4</th>\n",
       "      <td>19790105</td>\n",
       "      <td>6.0</td>\n",
       "      <td>2.0</td>\n",
       "      <td>29.0</td>\n",
       "      <td>5.6</td>\n",
       "      <td>-0.8</td>\n",
       "      <td>-1.4</td>\n",
       "      <td>0.0</td>\n",
       "      <td>102250.0</td>\n",
       "      <td>1.0</td>\n",
       "    </tr>\n",
       "  </tbody>\n",
       "</table>\n",
       "</div>"
      ],
      "text/plain": [
       "       date  cloud_cover  sunshine  global_radiation  max_temp  mean_temp  \\\n",
       "0  19790101          2.0       7.0              52.0       2.3       -4.1   \n",
       "1  19790102          6.0       1.7              27.0       1.6       -2.6   \n",
       "2  19790103          5.0       0.0              13.0       1.3       -2.8   \n",
       "3  19790104          8.0       0.0              13.0      -0.3       -2.6   \n",
       "4  19790105          6.0       2.0              29.0       5.6       -0.8   \n",
       "\n",
       "   min_temp  precipitation  pressure  snow_depth  \n",
       "0      -7.5            0.4  101900.0         9.0  \n",
       "1      -7.5            0.0  102530.0         8.0  \n",
       "2      -7.2            0.0  102050.0         4.0  \n",
       "3      -6.5            0.0  100840.0         2.0  \n",
       "4      -1.4            0.0  102250.0         1.0  "
      ]
     },
     "execution_count": 2,
     "metadata": {},
     "output_type": "execute_result"
    }
   ],
   "source": [
    "# Load the data\n",
    "df = pd.read_csv(\"https://docs.google.com/spreadsheets/d/e/2PACX-1vT_jChgNsQbHbg4TGepzIqk8XC9DTIKmyyxb1upo5cfZCgbfIUQc2ZC0YMzuU5uApP140Ob49KBjdqh/pub?gid=1198589591&single=true&output=csv\")\n",
    "df.head()"
   ]
  },
  {
   "cell_type": "markdown",
   "id": "d72bbf58",
   "metadata": {},
   "source": [
    "# Convert the Date Column"
   ]
  },
  {
   "cell_type": "code",
   "execution_count": 3,
   "id": "7bdbfdf7",
   "metadata": {},
   "outputs": [
    {
     "data": {
      "text/plain": [
       "0       1979-01-01\n",
       "1       1979-01-02\n",
       "2       1979-01-03\n",
       "3       1979-01-04\n",
       "4       1979-01-05\n",
       "           ...    \n",
       "15336   2020-12-27\n",
       "15337   2020-12-28\n",
       "15338   2020-12-29\n",
       "15339   2020-12-30\n",
       "15340   2020-12-31\n",
       "Name: date, Length: 15341, dtype: datetime64[ns]"
      ]
     },
     "execution_count": 3,
     "metadata": {},
     "output_type": "execute_result"
    }
   ],
   "source": [
    "# Convert date to datetime format\n",
    "df['date'] = pd.to_datetime(df['date'], format='%Y%m%d')\n",
    "df['date']"
   ]
  },
  {
   "cell_type": "markdown",
   "id": "43ec8aa9",
   "metadata": {},
   "source": [
    "## Date column for index"
   ]
  },
  {
   "cell_type": "code",
   "execution_count": 4,
   "id": "561906b4",
   "metadata": {
    "scrolled": true
   },
   "outputs": [
    {
     "data": {
      "text/html": [
       "<div>\n",
       "<style scoped>\n",
       "    .dataframe tbody tr th:only-of-type {\n",
       "        vertical-align: middle;\n",
       "    }\n",
       "\n",
       "    .dataframe tbody tr th {\n",
       "        vertical-align: top;\n",
       "    }\n",
       "\n",
       "    .dataframe thead th {\n",
       "        text-align: right;\n",
       "    }\n",
       "</style>\n",
       "<table border=\"1\" class=\"dataframe\">\n",
       "  <thead>\n",
       "    <tr style=\"text-align: right;\">\n",
       "      <th></th>\n",
       "      <th>cloud_cover</th>\n",
       "      <th>sunshine</th>\n",
       "      <th>global_radiation</th>\n",
       "      <th>max_temp</th>\n",
       "      <th>mean_temp</th>\n",
       "      <th>min_temp</th>\n",
       "      <th>precipitation</th>\n",
       "      <th>pressure</th>\n",
       "      <th>snow_depth</th>\n",
       "    </tr>\n",
       "    <tr>\n",
       "      <th>date</th>\n",
       "      <th></th>\n",
       "      <th></th>\n",
       "      <th></th>\n",
       "      <th></th>\n",
       "      <th></th>\n",
       "      <th></th>\n",
       "      <th></th>\n",
       "      <th></th>\n",
       "      <th></th>\n",
       "    </tr>\n",
       "  </thead>\n",
       "  <tbody>\n",
       "    <tr>\n",
       "      <th>1979-01-01</th>\n",
       "      <td>2.0</td>\n",
       "      <td>7.0</td>\n",
       "      <td>52.0</td>\n",
       "      <td>2.3</td>\n",
       "      <td>-4.1</td>\n",
       "      <td>-7.5</td>\n",
       "      <td>0.4</td>\n",
       "      <td>101900.0</td>\n",
       "      <td>9.0</td>\n",
       "    </tr>\n",
       "    <tr>\n",
       "      <th>1979-01-02</th>\n",
       "      <td>6.0</td>\n",
       "      <td>1.7</td>\n",
       "      <td>27.0</td>\n",
       "      <td>1.6</td>\n",
       "      <td>-2.6</td>\n",
       "      <td>-7.5</td>\n",
       "      <td>0.0</td>\n",
       "      <td>102530.0</td>\n",
       "      <td>8.0</td>\n",
       "    </tr>\n",
       "    <tr>\n",
       "      <th>1979-01-03</th>\n",
       "      <td>5.0</td>\n",
       "      <td>0.0</td>\n",
       "      <td>13.0</td>\n",
       "      <td>1.3</td>\n",
       "      <td>-2.8</td>\n",
       "      <td>-7.2</td>\n",
       "      <td>0.0</td>\n",
       "      <td>102050.0</td>\n",
       "      <td>4.0</td>\n",
       "    </tr>\n",
       "    <tr>\n",
       "      <th>1979-01-04</th>\n",
       "      <td>8.0</td>\n",
       "      <td>0.0</td>\n",
       "      <td>13.0</td>\n",
       "      <td>-0.3</td>\n",
       "      <td>-2.6</td>\n",
       "      <td>-6.5</td>\n",
       "      <td>0.0</td>\n",
       "      <td>100840.0</td>\n",
       "      <td>2.0</td>\n",
       "    </tr>\n",
       "    <tr>\n",
       "      <th>1979-01-05</th>\n",
       "      <td>6.0</td>\n",
       "      <td>2.0</td>\n",
       "      <td>29.0</td>\n",
       "      <td>5.6</td>\n",
       "      <td>-0.8</td>\n",
       "      <td>-1.4</td>\n",
       "      <td>0.0</td>\n",
       "      <td>102250.0</td>\n",
       "      <td>1.0</td>\n",
       "    </tr>\n",
       "    <tr>\n",
       "      <th>...</th>\n",
       "      <td>...</td>\n",
       "      <td>...</td>\n",
       "      <td>...</td>\n",
       "      <td>...</td>\n",
       "      <td>...</td>\n",
       "      <td>...</td>\n",
       "      <td>...</td>\n",
       "      <td>...</td>\n",
       "      <td>...</td>\n",
       "    </tr>\n",
       "    <tr>\n",
       "      <th>2020-12-27</th>\n",
       "      <td>1.0</td>\n",
       "      <td>0.9</td>\n",
       "      <td>32.0</td>\n",
       "      <td>7.5</td>\n",
       "      <td>7.5</td>\n",
       "      <td>7.6</td>\n",
       "      <td>2.0</td>\n",
       "      <td>98000.0</td>\n",
       "      <td>NaN</td>\n",
       "    </tr>\n",
       "    <tr>\n",
       "      <th>2020-12-28</th>\n",
       "      <td>7.0</td>\n",
       "      <td>3.7</td>\n",
       "      <td>38.0</td>\n",
       "      <td>3.6</td>\n",
       "      <td>1.1</td>\n",
       "      <td>-1.3</td>\n",
       "      <td>0.2</td>\n",
       "      <td>97370.0</td>\n",
       "      <td>NaN</td>\n",
       "    </tr>\n",
       "    <tr>\n",
       "      <th>2020-12-29</th>\n",
       "      <td>7.0</td>\n",
       "      <td>0.0</td>\n",
       "      <td>21.0</td>\n",
       "      <td>4.1</td>\n",
       "      <td>2.6</td>\n",
       "      <td>1.1</td>\n",
       "      <td>0.0</td>\n",
       "      <td>98830.0</td>\n",
       "      <td>NaN</td>\n",
       "    </tr>\n",
       "    <tr>\n",
       "      <th>2020-12-30</th>\n",
       "      <td>6.0</td>\n",
       "      <td>0.4</td>\n",
       "      <td>22.0</td>\n",
       "      <td>5.6</td>\n",
       "      <td>2.7</td>\n",
       "      <td>-0.1</td>\n",
       "      <td>0.0</td>\n",
       "      <td>100200.0</td>\n",
       "      <td>NaN</td>\n",
       "    </tr>\n",
       "    <tr>\n",
       "      <th>2020-12-31</th>\n",
       "      <td>7.0</td>\n",
       "      <td>1.3</td>\n",
       "      <td>34.0</td>\n",
       "      <td>1.5</td>\n",
       "      <td>-0.8</td>\n",
       "      <td>-3.1</td>\n",
       "      <td>0.0</td>\n",
       "      <td>100500.0</td>\n",
       "      <td>NaN</td>\n",
       "    </tr>\n",
       "  </tbody>\n",
       "</table>\n",
       "<p>15341 rows × 9 columns</p>\n",
       "</div>"
      ],
      "text/plain": [
       "            cloud_cover  sunshine  global_radiation  max_temp  mean_temp  \\\n",
       "date                                                                       \n",
       "1979-01-01          2.0       7.0              52.0       2.3       -4.1   \n",
       "1979-01-02          6.0       1.7              27.0       1.6       -2.6   \n",
       "1979-01-03          5.0       0.0              13.0       1.3       -2.8   \n",
       "1979-01-04          8.0       0.0              13.0      -0.3       -2.6   \n",
       "1979-01-05          6.0       2.0              29.0       5.6       -0.8   \n",
       "...                 ...       ...               ...       ...        ...   \n",
       "2020-12-27          1.0       0.9              32.0       7.5        7.5   \n",
       "2020-12-28          7.0       3.7              38.0       3.6        1.1   \n",
       "2020-12-29          7.0       0.0              21.0       4.1        2.6   \n",
       "2020-12-30          6.0       0.4              22.0       5.6        2.7   \n",
       "2020-12-31          7.0       1.3              34.0       1.5       -0.8   \n",
       "\n",
       "            min_temp  precipitation  pressure  snow_depth  \n",
       "date                                                       \n",
       "1979-01-01      -7.5            0.4  101900.0         9.0  \n",
       "1979-01-02      -7.5            0.0  102530.0         8.0  \n",
       "1979-01-03      -7.2            0.0  102050.0         4.0  \n",
       "1979-01-04      -6.5            0.0  100840.0         2.0  \n",
       "1979-01-05      -1.4            0.0  102250.0         1.0  \n",
       "...              ...            ...       ...         ...  \n",
       "2020-12-27       7.6            2.0   98000.0         NaN  \n",
       "2020-12-28      -1.3            0.2   97370.0         NaN  \n",
       "2020-12-29       1.1            0.0   98830.0         NaN  \n",
       "2020-12-30      -0.1            0.0  100200.0         NaN  \n",
       "2020-12-31      -3.1            0.0  100500.0         NaN  \n",
       "\n",
       "[15341 rows x 9 columns]"
      ]
     },
     "execution_count": 4,
     "metadata": {},
     "output_type": "execute_result"
    }
   ],
   "source": [
    "# Make date the index\n",
    "dfi = df.set_index('date')\n",
    "dfi"
   ]
  },
  {
   "cell_type": "markdown",
   "id": "1b547cd3",
   "metadata": {},
   "source": [
    "## Filter data"
   ]
  },
  {
   "cell_type": "code",
   "execution_count": 5,
   "id": "8aa8677c",
   "metadata": {},
   "outputs": [],
   "source": [
    "# Keeper columns\n",
    "cols = ['precipitation','mean_temp','min_temp','max_temp',\n",
    "                       'snow_depth']"
   ]
  },
  {
   "cell_type": "code",
   "execution_count": 10,
   "id": "72b7b35b",
   "metadata": {},
   "outputs": [
    {
     "name": "stdout",
     "output_type": "stream",
     "text": [
      "<class 'pandas.core.frame.DataFrame'>\n",
      "DatetimeIndex: 7671 entries, 2000-01-01 to 2020-12-31\n",
      "Data columns (total 5 columns):\n",
      " #   Column         Non-Null Count  Dtype  \n",
      "---  ------         --------------  -----  \n",
      " 0   precipitation  7281 non-null   float64\n",
      " 1   mean_temp      7252 non-null   float64\n",
      " 2   min_temp       7285 non-null   float64\n",
      " 3   max_temp       7281 non-null   float64\n",
      " 4   snow_depth     5919 non-null   float64\n",
      "dtypes: float64(5)\n",
      "memory usage: 359.6 KB\n"
     ]
    }
   ],
   "source": [
    "# Keep only values from year 2000 and beyond\n",
    "dfi = dfi.loc['2000':,cols]\n",
    "dfi.info()"
   ]
  },
  {
   "cell_type": "markdown",
   "id": "6188ffe0",
   "metadata": {},
   "source": [
    "## Fill in missing values"
   ]
  },
  {
   "cell_type": "code",
   "execution_count": 11,
   "id": "018a3d18",
   "metadata": {
    "scrolled": true
   },
   "outputs": [
    {
     "data": {
      "text/plain": [
       "precipitation     390\n",
       "mean_temp         419\n",
       "min_temp          386\n",
       "max_temp          390\n",
       "snow_depth       1752\n",
       "dtype: int64"
      ]
     },
     "execution_count": 11,
     "metadata": {},
     "output_type": "execute_result"
    }
   ],
   "source": [
    "# Total of missing values\n",
    "dfi.isna().sum()"
   ]
  },
  {
   "cell_type": "code",
   "execution_count": 12,
   "id": "c631dd91",
   "metadata": {
    "scrolled": true
   },
   "outputs": [
    {
     "data": {
      "text/html": [
       "<div>\n",
       "<style scoped>\n",
       "    .dataframe tbody tr th:only-of-type {\n",
       "        vertical-align: middle;\n",
       "    }\n",
       "\n",
       "    .dataframe tbody tr th {\n",
       "        vertical-align: top;\n",
       "    }\n",
       "\n",
       "    .dataframe thead th {\n",
       "        text-align: right;\n",
       "    }\n",
       "</style>\n",
       "<table border=\"1\" class=\"dataframe\">\n",
       "  <thead>\n",
       "    <tr style=\"text-align: right;\">\n",
       "      <th></th>\n",
       "      <th>precipitation</th>\n",
       "      <th>mean_temp</th>\n",
       "      <th>min_temp</th>\n",
       "      <th>max_temp</th>\n",
       "      <th>snow_depth</th>\n",
       "    </tr>\n",
       "    <tr>\n",
       "      <th>date</th>\n",
       "      <th></th>\n",
       "      <th></th>\n",
       "      <th></th>\n",
       "      <th></th>\n",
       "      <th></th>\n",
       "    </tr>\n",
       "  </thead>\n",
       "  <tbody>\n",
       "    <tr>\n",
       "      <th>2000-01-01</th>\n",
       "      <td>0.0</td>\n",
       "      <td>7.0</td>\n",
       "      <td>4.9</td>\n",
       "      <td>10.8</td>\n",
       "      <td>0.0</td>\n",
       "    </tr>\n",
       "    <tr>\n",
       "      <th>2000-01-02</th>\n",
       "      <td>0.2</td>\n",
       "      <td>7.9</td>\n",
       "      <td>5.0</td>\n",
       "      <td>11.5</td>\n",
       "      <td>0.0</td>\n",
       "    </tr>\n",
       "    <tr>\n",
       "      <th>2000-01-03</th>\n",
       "      <td>6.0</td>\n",
       "      <td>9.4</td>\n",
       "      <td>7.2</td>\n",
       "      <td>9.5</td>\n",
       "      <td>0.0</td>\n",
       "    </tr>\n",
       "    <tr>\n",
       "      <th>2000-01-04</th>\n",
       "      <td>0.2</td>\n",
       "      <td>7.0</td>\n",
       "      <td>4.4</td>\n",
       "      <td>11.0</td>\n",
       "      <td>0.0</td>\n",
       "    </tr>\n",
       "    <tr>\n",
       "      <th>2000-01-05</th>\n",
       "      <td>0.8</td>\n",
       "      <td>6.4</td>\n",
       "      <td>1.9</td>\n",
       "      <td>10.8</td>\n",
       "      <td>0.0</td>\n",
       "    </tr>\n",
       "    <tr>\n",
       "      <th>2000-01-06</th>\n",
       "      <td>0.0</td>\n",
       "      <td>8.9</td>\n",
       "      <td>7.0</td>\n",
       "      <td>11.0</td>\n",
       "      <td>0.0</td>\n",
       "    </tr>\n",
       "    <tr>\n",
       "      <th>2000-01-07</th>\n",
       "      <td>2.0</td>\n",
       "      <td>7.2</td>\n",
       "      <td>3.4</td>\n",
       "      <td>9.2</td>\n",
       "      <td>0.0</td>\n",
       "    </tr>\n",
       "    <tr>\n",
       "      <th>2000-01-08</th>\n",
       "      <td>0.0</td>\n",
       "      <td>7.4</td>\n",
       "      <td>5.7</td>\n",
       "      <td>7.2</td>\n",
       "      <td>0.0</td>\n",
       "    </tr>\n",
       "    <tr>\n",
       "      <th>2000-01-09</th>\n",
       "      <td>0.2</td>\n",
       "      <td>3.2</td>\n",
       "      <td>-0.7</td>\n",
       "      <td>7.8</td>\n",
       "      <td>0.0</td>\n",
       "    </tr>\n",
       "    <tr>\n",
       "      <th>2000-01-10</th>\n",
       "      <td>0.0</td>\n",
       "      <td>2.2</td>\n",
       "      <td>-3.3</td>\n",
       "      <td>10.2</td>\n",
       "      <td>0.0</td>\n",
       "    </tr>\n",
       "    <tr>\n",
       "      <th>2000-01-11</th>\n",
       "      <td>0.0</td>\n",
       "      <td>5.4</td>\n",
       "      <td>0.6</td>\n",
       "      <td>8.2</td>\n",
       "      <td>0.0</td>\n",
       "    </tr>\n",
       "    <tr>\n",
       "      <th>2000-01-12</th>\n",
       "      <td>2.8</td>\n",
       "      <td>8.0</td>\n",
       "      <td>7.8</td>\n",
       "      <td>5.0</td>\n",
       "      <td>0.0</td>\n",
       "    </tr>\n",
       "    <tr>\n",
       "      <th>2000-01-13</th>\n",
       "      <td>0.2</td>\n",
       "      <td>3.8</td>\n",
       "      <td>2.7</td>\n",
       "      <td>6.3</td>\n",
       "      <td>0.0</td>\n",
       "    </tr>\n",
       "    <tr>\n",
       "      <th>2000-01-14</th>\n",
       "      <td>0.3</td>\n",
       "      <td>2.9</td>\n",
       "      <td>-0.5</td>\n",
       "      <td>6.7</td>\n",
       "      <td>0.0</td>\n",
       "    </tr>\n",
       "    <tr>\n",
       "      <th>2000-01-15</th>\n",
       "      <td>0.0</td>\n",
       "      <td>4.6</td>\n",
       "      <td>2.6</td>\n",
       "      <td>7.2</td>\n",
       "      <td>0.0</td>\n",
       "    </tr>\n",
       "    <tr>\n",
       "      <th>2000-01-16</th>\n",
       "      <td>0.0</td>\n",
       "      <td>4.7</td>\n",
       "      <td>2.2</td>\n",
       "      <td>8.6</td>\n",
       "      <td>0.0</td>\n",
       "    </tr>\n",
       "    <tr>\n",
       "      <th>2000-01-17</th>\n",
       "      <td>NaN</td>\n",
       "      <td>NaN</td>\n",
       "      <td>NaN</td>\n",
       "      <td>NaN</td>\n",
       "      <td>NaN</td>\n",
       "    </tr>\n",
       "    <tr>\n",
       "      <th>2000-01-18</th>\n",
       "      <td>0.2</td>\n",
       "      <td>4.8</td>\n",
       "      <td>1.2</td>\n",
       "      <td>7.3</td>\n",
       "      <td>0.0</td>\n",
       "    </tr>\n",
       "    <tr>\n",
       "      <th>2000-01-19</th>\n",
       "      <td>0.0</td>\n",
       "      <td>5.4</td>\n",
       "      <td>3.6</td>\n",
       "      <td>5.3</td>\n",
       "      <td>0.0</td>\n",
       "    </tr>\n",
       "    <tr>\n",
       "      <th>2000-01-20</th>\n",
       "      <td>NaN</td>\n",
       "      <td>NaN</td>\n",
       "      <td>NaN</td>\n",
       "      <td>NaN</td>\n",
       "      <td>NaN</td>\n",
       "    </tr>\n",
       "  </tbody>\n",
       "</table>\n",
       "</div>"
      ],
      "text/plain": [
       "            precipitation  mean_temp  min_temp  max_temp  snow_depth\n",
       "date                                                                \n",
       "2000-01-01            0.0        7.0       4.9      10.8         0.0\n",
       "2000-01-02            0.2        7.9       5.0      11.5         0.0\n",
       "2000-01-03            6.0        9.4       7.2       9.5         0.0\n",
       "2000-01-04            0.2        7.0       4.4      11.0         0.0\n",
       "2000-01-05            0.8        6.4       1.9      10.8         0.0\n",
       "2000-01-06            0.0        8.9       7.0      11.0         0.0\n",
       "2000-01-07            2.0        7.2       3.4       9.2         0.0\n",
       "2000-01-08            0.0        7.4       5.7       7.2         0.0\n",
       "2000-01-09            0.2        3.2      -0.7       7.8         0.0\n",
       "2000-01-10            0.0        2.2      -3.3      10.2         0.0\n",
       "2000-01-11            0.0        5.4       0.6       8.2         0.0\n",
       "2000-01-12            2.8        8.0       7.8       5.0         0.0\n",
       "2000-01-13            0.2        3.8       2.7       6.3         0.0\n",
       "2000-01-14            0.3        2.9      -0.5       6.7         0.0\n",
       "2000-01-15            0.0        4.6       2.6       7.2         0.0\n",
       "2000-01-16            0.0        4.7       2.2       8.6         0.0\n",
       "2000-01-17            NaN        NaN       NaN       NaN         NaN\n",
       "2000-01-18            0.2        4.8       1.2       7.3         0.0\n",
       "2000-01-19            0.0        5.4       3.6       5.3         0.0\n",
       "2000-01-20            NaN        NaN       NaN       NaN         NaN"
      ]
     },
     "execution_count": 12,
     "metadata": {},
     "output_type": "execute_result"
    }
   ],
   "source": [
    "# Check values to determine which methods to fill\n",
    "dfi.head(20)"
   ]
  },
  {
   "cell_type": "code",
   "execution_count": 14,
   "id": "7d43f301",
   "metadata": {
    "scrolled": true
   },
   "outputs": [
    {
     "data": {
      "text/plain": [
       "precipitation    0\n",
       "mean_temp        0\n",
       "min_temp         0\n",
       "max_temp         0\n",
       "snow_depth       0\n",
       "dtype: int64"
      ]
     },
     "execution_count": 14,
     "metadata": {},
     "output_type": "execute_result"
    }
   ],
   "source": [
    "# Interpolate for missing values\n",
    "dfi['precipitation'] = dfi['precipitation'].interpolate()\n",
    "dfi['mean_temp'] = dfi['mean_temp'].interpolate()\n",
    "dfi['min_temp'] = dfi['min_temp'].interpolate()\n",
    "dfi['max_temp'] = dfi['max_temp'].interpolate()\n",
    "\n",
    "# 0 to fill snow depth missing values\n",
    "dfi['snow_depth'] = dfi['snow_depth'].fillna(0)\n",
    "\n",
    "# Check for missing values after imputation\n",
    "dfi.isna().sum()"
   ]
  },
  {
   "cell_type": "markdown",
   "id": "e566fd5e",
   "metadata": {},
   "source": [
    "# What month had the most precipitation between 2000 through 2010?"
   ]
  },
  {
   "cell_type": "code",
   "execution_count": 15,
   "id": "5cd80a4a",
   "metadata": {
    "scrolled": true
   },
   "outputs": [
    {
     "data": {
      "text/plain": [
       "date\n",
       "2000-01-01    0.0\n",
       "2000-01-02    0.2\n",
       "2000-01-03    6.0\n",
       "2000-01-04    0.2\n",
       "2000-01-05    0.8\n",
       "             ... \n",
       "2010-12-27    5.0\n",
       "2010-12-28    0.4\n",
       "2010-12-29    1.4\n",
       "2010-12-30    0.0\n",
       "2010-12-31    0.0\n",
       "Name: precipitation, Length: 4018, dtype: float64"
      ]
     },
     "execution_count": 15,
     "metadata": {},
     "output_type": "execute_result"
    }
   ],
   "source": [
    "# Narrow data for precipitation in the years 2000-2010\n",
    "ts = dfi.loc['2000':'2010','precipitation'].copy()\n",
    "ts"
   ]
  },
  {
   "cell_type": "code",
   "execution_count": 24,
   "id": "28f00353",
   "metadata": {},
   "outputs": [
    {
     "data": {
      "text/plain": [
       "DatetimeIndex(['2000-01-01', '2000-01-02', '2000-01-03', '2000-01-04',\n",
       "               '2000-01-05', '2000-01-06', '2000-01-07', '2000-01-08',\n",
       "               '2000-01-09', '2000-01-10',\n",
       "               ...\n",
       "               '2010-12-22', '2010-12-23', '2010-12-24', '2010-12-25',\n",
       "               '2010-12-26', '2010-12-27', '2010-12-28', '2010-12-29',\n",
       "               '2010-12-30', '2010-12-31'],\n",
       "              dtype='datetime64[ns]', name='date', length=4018, freq=None)"
      ]
     },
     "execution_count": 24,
     "metadata": {},
     "output_type": "execute_result"
    }
   ],
   "source": [
    "ts.index"
   ]
  },
  {
   "cell_type": "code",
   "execution_count": 17,
   "id": "7acfc335",
   "metadata": {
    "scrolled": false
   },
   "outputs": [
    {
     "data": {
      "text/plain": [
       "date\n",
       "2000-01-31    14.5\n",
       "2000-02-29    64.8\n",
       "2000-03-31    13.9\n",
       "2000-04-30    82.5\n",
       "2000-05-31    78.0\n",
       "Freq: M, Name: Resampled, dtype: float64"
      ]
     },
     "execution_count": 17,
     "metadata": {},
     "output_type": "execute_result"
    }
   ],
   "source": [
    "# Resample the data as Monthly frequency\n",
    "ts_M_res = ts.resample('M').sum()\n",
    "ts_M_res.name = 'Resampled'\n",
    "ts_M_res.head()"
   ]
  },
  {
   "cell_type": "code",
   "execution_count": 64,
   "id": "99da9fa9",
   "metadata": {},
   "outputs": [
    {
     "data": {
      "text/plain": [
       "Timestamp('2000-10-29 00:00:00')"
      ]
     },
     "execution_count": 64,
     "metadata": {},
     "output_type": "execute_result"
    }
   ],
   "source": [
    "# Day with most precipitation\n",
    "max_date = ts.idxmax()\n",
    "max_date"
   ]
  },
  {
   "cell_type": "code",
   "execution_count": 65,
   "id": "07bf6b7e",
   "metadata": {},
   "outputs": [
    {
     "data": {
      "text/plain": [
       "36.6"
      ]
     },
     "execution_count": 65,
     "metadata": {},
     "output_type": "execute_result"
    }
   ],
   "source": [
    "# Most inches of precipitation on a single day\n",
    "ts.loc[max_date]"
   ]
  },
  {
   "cell_type": "code",
   "execution_count": 57,
   "id": "9a70ab6b",
   "metadata": {},
   "outputs": [
    {
     "data": {
      "text/plain": [
       "Timestamp('2000-10-31 00:00:00', freq='M')"
      ]
     },
     "execution_count": 57,
     "metadata": {},
     "output_type": "execute_result"
    }
   ],
   "source": [
    "# Month with most precipitation\n",
    "max_month = ts_M_res.idxmax()\n",
    "max_month"
   ]
  },
  {
   "cell_type": "code",
   "execution_count": 63,
   "id": "6c508d62",
   "metadata": {},
   "outputs": [
    {
     "data": {
      "text/plain": [
       "152.7"
      ]
     },
     "execution_count": 63,
     "metadata": {},
     "output_type": "execute_result"
    }
   ],
   "source": [
    "# Inches of precipitation for October 2000\n",
    "ts_M_res.loc[max_month]"
   ]
  },
  {
   "cell_type": "markdown",
   "id": "2fa8e324",
   "metadata": {},
   "source": [
    "### October 2000 had the most precipitation totaling 152.7 inches"
   ]
  },
  {
   "cell_type": "markdown",
   "id": "0c9025dd",
   "metadata": {},
   "source": [
    "## Visualizations for Question 1"
   ]
  },
  {
   "cell_type": "code",
   "execution_count": 34,
   "id": "8c7fa4ea",
   "metadata": {},
   "outputs": [],
   "source": [
    "# Giving title to function\n",
    "ts.name = 'Precipitation for 2000-2010'"
   ]
  },
  {
   "cell_type": "code",
   "execution_count": 70,
   "id": "891336bc",
   "metadata": {
    "scrolled": true
   },
   "outputs": [
    {
     "data": {
      "image/png": "[encoded data removed]",
      "text/plain": [
       "<Figure size 1200x300 with 1 Axes>"
      ]
     },
     "metadata": {},
     "output_type": "display_data"
    }
   ],
   "source": [
    "# Learning Platform Function\n",
    "def plot_dates(ts,figsize=(12,3),xtick_fontsize='large',\n",
    "               xtick_fontweight='bold',\n",
    "               title=None):\n",
    "    \n",
    "    if title is None:\n",
    "        title = ts.name\n",
    "    # plot the time series with pandas\n",
    "    fig, ax = plt.subplots(figsize=figsize)\n",
    "    ts.plot(ax=ax,title=title, ylabel = 'Inches');\n",
    "    \n",
    "    ## creating our tick locators and formatters\n",
    "    ## for minor month ticks\n",
    "    # create the locator to place ticks every 3 months.\n",
    "    loc_3months = mdates.MonthLocator(interval=3)\n",
    "    fmt_months = mdates.DateFormatter(\"%b\")\n",
    "    ## for major year ticks\n",
    "    loc_year = mdates.YearLocator()\n",
    "    fmt_year = mdates.DateFormatter(\"%Y\")\n",
    "    \n",
    "    ## Change the font of the major ticks to stand out\n",
    "    ax.set_xticks(ax.get_xticks())\n",
    "    ax.set_xticklabels(ax.get_xticklabels(), \n",
    "                       fontsize=xtick_fontsize, \n",
    "                       fontweight=xtick_fontweight) \n",
    "    \n",
    "    ## customize minor ticks\n",
    "    ax.xaxis.set_minor_locator(loc_3months)\n",
    "    '''ax.xaxis.set_minor_formatter(fmt_months) labels the minor ticks'''\n",
    "    ## customize major ticks\n",
    "    ax.xaxis.set_major_locator(loc_year)\n",
    "    ax.xaxis.set_major_formatter(fmt_year)\n",
    "    '''## Making major/minor gridlines visually distinct\n",
    "    ax.grid(which='minor',axis='x',ls=\":\")\n",
    "    ax.grid(which='major',axis='x',color='k')'''\n",
    "    \n",
    "    ## axvline(x, ymin, ymax, color, linestyle)## Pythonguides documentation\n",
    "    ax.axvline(max_month, color= 'r', linestyle='--')\n",
    "    ## rotate the dates\n",
    "    fig.autofmt_xdate(which='major',rotation=90,ha='center')\n",
    "    return fig,ax\n",
    "plot_dates(ts);\n",
    "\n"
   ]
  },
  {
   "cell_type": "markdown",
   "id": "03a4f3ff",
   "metadata": {},
   "source": [
    "### This visualization does not answer the question with a full data range nor when used with a monthly re-sampling. I will create a useful visualization to accommodate question requirements."
   ]
  },
  {
   "cell_type": "code",
   "execution_count": 105,
   "id": "39b58d70",
   "metadata": {},
   "outputs": [
    {
     "data": {
      "image/png": "[encoded data removed]",
      "text/plain": [
       "<Figure size 1200x300 with 1 Axes>"
      ]
     },
     "metadata": {},
     "output_type": "display_data"
    }
   ],
   "source": [
    "# Fix for the pandas bug\n",
    "fig, ax = plt.subplots(figsize = (12,3))\n",
    "ts_M_res.plot(ax=ax, label= 'Precipitation')\n",
    "\n",
    "# Set title and labels\n",
    "ax.set_title('Precipitation for 2000-2010', fontsize= 25, fontweight='bold')\n",
    "ax.set_ylabel('Inches', fontsize=13, fontweight='bold')\n",
    "ax.set_xlabel('Date', fontsize=20, fontweight='bold')\n",
    "\n",
    "# Major x-axis ticks at one year intervals and rotate 90*\n",
    "x_major = mdates.YearLocator(1)\n",
    "x_major_fmt = mdates.DateFormatter('%Y')\n",
    "fig.autofmt_xdate(which='major',rotation=90,ha='center')\n",
    "\n",
    "# Minor x-axis ticks at three month intervals and no labels\n",
    "x_minor = mdates.MonthLocator(interval=3)\n",
    "\n",
    "# Vertical line referring to month with most precipitation\n",
    "ax.axvline(max_month, color= 'r', linestyle='--',\n",
    "           label='October 2000 at 152.7 Inches')\n",
    "\n",
    "# Legend\n",
    "ax.legend(loc='lower left', bbox_to_anchor=(0.0, -0.6));"
   ]
  },
  {
   "cell_type": "markdown",
   "id": "7fbaefa1",
   "metadata": {},
   "source": [
    "# Which year between 2000-2020 had the coolest average temperature?"
   ]
  },
  {
   "cell_type": "code",
   "execution_count": 106,
   "id": "f81132c3",
   "metadata": {},
   "outputs": [
    {
     "data": {
      "text/plain": [
       "date\n",
       "2000-01-01    7.0\n",
       "2000-01-02    7.9\n",
       "2000-01-03    9.4\n",
       "2000-01-04    7.0\n",
       "2000-01-05    6.4\n",
       "             ... \n",
       "2020-12-27    7.5\n",
       "2020-12-28    1.1\n",
       "2020-12-29    2.6\n",
       "2020-12-30    2.7\n",
       "2020-12-31   -0.8\n",
       "Name: mean_temp, Length: 7671, dtype: float64"
      ]
     },
     "execution_count": 106,
     "metadata": {},
     "output_type": "execute_result"
    }
   ],
   "source": [
    "# Narrow data for temperature in the years 2000-2020\n",
    "tst = dfi.loc['2000':'2020','mean_temp'].copy()\n",
    "tst"
   ]
  },
  {
   "cell_type": "code",
   "execution_count": 107,
   "id": "7caeb67e",
   "metadata": {
    "scrolled": true
   },
   "outputs": [
    {
     "data": {
      "text/plain": [
       "date\n",
       "2000-12-31    11.575683\n",
       "2001-12-31    11.331507\n",
       "2002-12-31    12.084247\n",
       "2003-12-31    12.114521\n",
       "2004-12-31    11.900683\n",
       "Freq: A-DEC, Name: Resampled, dtype: float64"
      ]
     },
     "execution_count": 107,
     "metadata": {},
     "output_type": "execute_result"
    }
   ],
   "source": [
    "# Resample the data as Yearly frequency\n",
    "ts_Y_res = tst.resample('Y').mean()\n",
    "ts_Y_res.name = 'Resampled'\n",
    "ts_Y_res.head()"
   ]
  },
  {
   "cell_type": "code",
   "execution_count": 108,
   "id": "d7956d92",
   "metadata": {},
   "outputs": [
    {
     "data": {
      "text/plain": [
       "Timestamp('2010-12-31 00:00:00', freq='A-DEC')"
      ]
     },
     "execution_count": 108,
     "metadata": {},
     "output_type": "execute_result"
    }
   ],
   "source": [
    "# Date for the lowest mean temperature\n",
    "min_date = ts_Y_res.idxmin()\n",
    "min_date"
   ]
  },
  {
   "cell_type": "code",
   "execution_count": 109,
   "id": "5737247c",
   "metadata": {
    "scrolled": true
   },
   "outputs": [
    {
     "data": {
      "text/plain": [
       "10.657397260273973"
      ]
     },
     "execution_count": 109,
     "metadata": {},
     "output_type": "execute_result"
    }
   ],
   "source": [
    "# Temperature value for 2010\n",
    "ts_Y_res.loc[min_date]"
   ]
  },
  {
   "cell_type": "markdown",
   "id": "0357628d",
   "metadata": {},
   "source": [
    "### 2010 had the coolest average temperature at 10.66 degrees Celsius."
   ]
  },
  {
   "cell_type": "markdown",
   "id": "3bb4d488",
   "metadata": {},
   "source": [
    "## Visualizations for Question 2"
   ]
  },
  {
   "cell_type": "code",
   "execution_count": 114,
   "id": "8ae8ad16",
   "metadata": {},
   "outputs": [
    {
     "data": {
      "image/png": "[encoded data removed]",
      "text/plain": [
       "<Figure size 1200x300 with 1 Axes>"
      ]
     },
     "metadata": {},
     "output_type": "display_data"
    }
   ],
   "source": [
    "# Set fig size\n",
    "fig, ax = plt.subplots(figsize = (12, 3))\n",
    "ts_Y_res.plot(ax=ax, label= 'Degrees Cesius')\n",
    "\n",
    "# Set title and labels\n",
    "ax.set_title('Average Temperature', fontsize= 18, fontweight='bold')\n",
    "ax.set_ylabel('Degrees', fontsize=13, fontweight='bold')\n",
    "ax.set_xlabel('Date', fontsize=13, fontweight='bold')\n",
    "\n",
    "# Major x-axis ticks at five year intervals and rotate 90*\n",
    "x_major = mdates.YearLocator(5)\n",
    "x_major_fmt = mdates.DateFormatter('%Y')\n",
    "fig.autofmt_xdate(which='major',rotation=90,ha='center')\n",
    "\n",
    "# Minor x-axis ticks at one year intervals and no labels\n",
    "x_minor = mdates.YearLocator(1)\n",
    "\n",
    "# Vertical line referring to year with coolest temperature\n",
    "ax.axvline(min_date, color= 'r', linestyle='--',\n",
    "           label= '2010 at 10.66 Degrees Celsius')\n",
    "\n",
    "# Legend\n",
    "ax.legend(loc='lower left', bbox_to_anchor=(0.0, -0.6));\n"
   ]
  }
 ],
 "metadata": {
  "kernelspec": {
   "display_name": "Python (dojo-env)",
   "language": "python",
   "name": "dojo-env"
  },
  "language_info": {
   "codemirror_mode": {
    "name": "ipython",
    "version": 3
   },
   "file_extension": ".py",
   "mimetype": "text/x-python",
   "name": "python",
   "nbconvert_exporter": "python",
   "pygments_lexer": "ipython3",
   "version": "3.9.15"
  },
  "toc": {
   "base_numbering": 1,
   "nav_menu": {},
   "number_sections": true,
   "sideBar": true,
   "skip_h1_title": false,
   "title_cell": "Table of Contents",
   "title_sidebar": "Contents",
   "toc_cell": false,
   "toc_position": {},
   "toc_section_display": true,
   "toc_window_display": false
  }
 },
 "nbformat": 4,
 "nbformat_minor": 5
}
